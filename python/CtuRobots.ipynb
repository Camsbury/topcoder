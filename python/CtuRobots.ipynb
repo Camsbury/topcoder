{
 "cells": [
  {
   "cell_type": "markdown",
   "metadata": {},
   "source": [
    "Algorithm for TopCoder's CtuRobots problem. Incomplete."
   ]
  },
  {
   "cell_type": "code",
   "execution_count": 76,
   "metadata": {
    "collapsed": true
   },
   "outputs": [],
   "source": [
    "def max_dist(budget, costs, caps):\n",
    "    #sort so that lazy evaluation works\n",
    "    caps = [x for (y, x) in sorted(zip(costs,caps))]\n",
    "    costs.sort()\n",
    "    distance, bots = knapsack_bots(budget, costs, caps, [], 0)\n",
    "    print(costs, caps, bots)\n",
    "    return distance\n",
    "\n",
    "def knapsack_bots(budget, costs, caps, bought, start):\n",
    "    best = (dist_calc(sorted([caps[x] for x in bought])), bought)\n",
    "    if start != len(costs) and costs[start] <= budget:\n",
    "        best = max(knapsack_bots(budget - costs[start], costs, caps, bought + [start], start + 1),\n",
    "                                 knapsack_bots(budget, costs, caps, bought, start + 1))\n",
    "    return best\n",
    "\n",
    "def dist_calc(caps):\n",
    "    distance = 0\n",
    "    for i, cap in enumerate(caps):\n",
    "        distance += (cap - distance)/(len(caps) - i + 1)\n",
    "    return distance"
   ]
  },
  {
   "cell_type": "code",
   "execution_count": 80,
   "metadata": {
    "collapsed": false
   },
   "outputs": [
    {
     "name": "stdout",
     "output_type": "stream",
     "text": [
      "[0, 0, 0, 0, 0, 1000, 1000, 1000] [2039, 4819, 4918, 5923, 9182, 1577, 3652, 8749] [0, 1, 2, 3, 4, 7]\n"
     ]
    },
    {
     "data": {
      "text/plain": [
       "6997.830952380953"
      ]
     },
     "execution_count": 80,
     "metadata": {},
     "output_type": "execute_result"
    }
   ],
   "source": [
    "budget = 1382\n",
    "costs = [0,0,0,1000,1000,0,1000,0]\n",
    "caps = [2039,4819,5923,1577,8749,9182,3652,4918]\n",
    "max_dist(budget, costs, caps)"
   ]
  },
  {
   "cell_type": "code",
   "execution_count": 11,
   "metadata": {
    "collapsed": false
   },
   "outputs": [
    {
     "name": "stderr",
     "output_type": "stream",
     "text": [
      "test0 (__main__.TestMaxDist) ... ERROR\n",
      "test1 (__main__.TestMaxDist) ... ERROR\n",
      "test2 (__main__.TestMaxDist) ... ERROR\n",
      "test3 (__main__.TestMaxDist) ... "
     ]
    },
    {
     "ename": "KeyboardInterrupt",
     "evalue": "",
     "output_type": "error",
     "traceback": [
      "\u001b[0;31m---------------------------------------------------------------------------\u001b[0m",
      "\u001b[0;31mKeyboardInterrupt\u001b[0m                         Traceback (most recent call last)",
      "\u001b[0;32m<ipython-input-11-c356830834dc>\u001b[0m in \u001b[0;36m<module>\u001b[0;34m()\u001b[0m\n\u001b[1;32m     77\u001b[0m \u001b[0;34m\u001b[0m\u001b[0m\n\u001b[1;32m     78\u001b[0m \u001b[0msuite\u001b[0m \u001b[0;34m=\u001b[0m \u001b[0munittest\u001b[0m\u001b[0;34m.\u001b[0m\u001b[0mTestLoader\u001b[0m\u001b[0;34m(\u001b[0m\u001b[0;34m)\u001b[0m\u001b[0;34m.\u001b[0m\u001b[0mloadTestsFromTestCase\u001b[0m\u001b[0;34m(\u001b[0m\u001b[0mTestMaxDist\u001b[0m\u001b[0;34m)\u001b[0m\u001b[0;34m\u001b[0m\u001b[0m\n\u001b[0;32m---> 79\u001b[0;31m \u001b[0munittest\u001b[0m\u001b[0;34m.\u001b[0m\u001b[0mTextTestRunner\u001b[0m\u001b[0;34m(\u001b[0m\u001b[0mverbosity\u001b[0m\u001b[0;34m=\u001b[0m\u001b[0;36m2\u001b[0m\u001b[0;34m)\u001b[0m\u001b[0;34m.\u001b[0m\u001b[0mrun\u001b[0m\u001b[0;34m(\u001b[0m\u001b[0msuite\u001b[0m\u001b[0;34m)\u001b[0m\u001b[0;34m\u001b[0m\u001b[0m\n\u001b[0m\u001b[1;32m     80\u001b[0m \u001b[0;34m\u001b[0m\u001b[0m\n",
      "\u001b[0;32m/Users/buddha/anaconda/lib/python3.5/unittest/runner.py\u001b[0m in \u001b[0;36mrun\u001b[0;34m(self, test)\u001b[0m\n\u001b[1;32m    174\u001b[0m                 \u001b[0mstartTestRun\u001b[0m\u001b[0;34m(\u001b[0m\u001b[0;34m)\u001b[0m\u001b[0;34m\u001b[0m\u001b[0m\n\u001b[1;32m    175\u001b[0m             \u001b[0;32mtry\u001b[0m\u001b[0;34m:\u001b[0m\u001b[0;34m\u001b[0m\u001b[0m\n\u001b[0;32m--> 176\u001b[0;31m                 \u001b[0mtest\u001b[0m\u001b[0;34m(\u001b[0m\u001b[0mresult\u001b[0m\u001b[0;34m)\u001b[0m\u001b[0;34m\u001b[0m\u001b[0m\n\u001b[0m\u001b[1;32m    177\u001b[0m             \u001b[0;32mfinally\u001b[0m\u001b[0;34m:\u001b[0m\u001b[0;34m\u001b[0m\u001b[0m\n\u001b[1;32m    178\u001b[0m                 \u001b[0mstopTestRun\u001b[0m \u001b[0;34m=\u001b[0m \u001b[0mgetattr\u001b[0m\u001b[0;34m(\u001b[0m\u001b[0mresult\u001b[0m\u001b[0;34m,\u001b[0m \u001b[0;34m'stopTestRun'\u001b[0m\u001b[0;34m,\u001b[0m \u001b[0;32mNone\u001b[0m\u001b[0;34m)\u001b[0m\u001b[0;34m\u001b[0m\u001b[0m\n",
      "\u001b[0;32m/Users/buddha/anaconda/lib/python3.5/unittest/suite.py\u001b[0m in \u001b[0;36m__call__\u001b[0;34m(self, *args, **kwds)\u001b[0m\n\u001b[1;32m     82\u001b[0m \u001b[0;34m\u001b[0m\u001b[0m\n\u001b[1;32m     83\u001b[0m     \u001b[0;32mdef\u001b[0m \u001b[0m__call__\u001b[0m\u001b[0;34m(\u001b[0m\u001b[0mself\u001b[0m\u001b[0;34m,\u001b[0m \u001b[0;34m*\u001b[0m\u001b[0margs\u001b[0m\u001b[0;34m,\u001b[0m \u001b[0;34m**\u001b[0m\u001b[0mkwds\u001b[0m\u001b[0;34m)\u001b[0m\u001b[0;34m:\u001b[0m\u001b[0;34m\u001b[0m\u001b[0m\n\u001b[0;32m---> 84\u001b[0;31m         \u001b[0;32mreturn\u001b[0m \u001b[0mself\u001b[0m\u001b[0;34m.\u001b[0m\u001b[0mrun\u001b[0m\u001b[0;34m(\u001b[0m\u001b[0;34m*\u001b[0m\u001b[0margs\u001b[0m\u001b[0;34m,\u001b[0m \u001b[0;34m**\u001b[0m\u001b[0mkwds\u001b[0m\u001b[0;34m)\u001b[0m\u001b[0;34m\u001b[0m\u001b[0m\n\u001b[0m\u001b[1;32m     85\u001b[0m \u001b[0;34m\u001b[0m\u001b[0m\n\u001b[1;32m     86\u001b[0m     \u001b[0;32mdef\u001b[0m \u001b[0mdebug\u001b[0m\u001b[0;34m(\u001b[0m\u001b[0mself\u001b[0m\u001b[0;34m)\u001b[0m\u001b[0;34m:\u001b[0m\u001b[0;34m\u001b[0m\u001b[0m\n",
      "\u001b[0;32m/Users/buddha/anaconda/lib/python3.5/unittest/suite.py\u001b[0m in \u001b[0;36mrun\u001b[0;34m(self, result, debug)\u001b[0m\n\u001b[1;32m    120\u001b[0m \u001b[0;34m\u001b[0m\u001b[0m\n\u001b[1;32m    121\u001b[0m             \u001b[0;32mif\u001b[0m \u001b[0;32mnot\u001b[0m \u001b[0mdebug\u001b[0m\u001b[0;34m:\u001b[0m\u001b[0;34m\u001b[0m\u001b[0m\n\u001b[0;32m--> 122\u001b[0;31m                 \u001b[0mtest\u001b[0m\u001b[0;34m(\u001b[0m\u001b[0mresult\u001b[0m\u001b[0;34m)\u001b[0m\u001b[0;34m\u001b[0m\u001b[0m\n\u001b[0m\u001b[1;32m    123\u001b[0m             \u001b[0;32melse\u001b[0m\u001b[0;34m:\u001b[0m\u001b[0;34m\u001b[0m\u001b[0m\n\u001b[1;32m    124\u001b[0m                 \u001b[0mtest\u001b[0m\u001b[0;34m.\u001b[0m\u001b[0mdebug\u001b[0m\u001b[0;34m(\u001b[0m\u001b[0;34m)\u001b[0m\u001b[0;34m\u001b[0m\u001b[0m\n",
      "\u001b[0;32m/Users/buddha/anaconda/lib/python3.5/unittest/case.py\u001b[0m in \u001b[0;36m__call__\u001b[0;34m(self, *args, **kwds)\u001b[0m\n\u001b[1;32m    646\u001b[0m \u001b[0;34m\u001b[0m\u001b[0m\n\u001b[1;32m    647\u001b[0m     \u001b[0;32mdef\u001b[0m \u001b[0m__call__\u001b[0m\u001b[0;34m(\u001b[0m\u001b[0mself\u001b[0m\u001b[0;34m,\u001b[0m \u001b[0;34m*\u001b[0m\u001b[0margs\u001b[0m\u001b[0;34m,\u001b[0m \u001b[0;34m**\u001b[0m\u001b[0mkwds\u001b[0m\u001b[0;34m)\u001b[0m\u001b[0;34m:\u001b[0m\u001b[0;34m\u001b[0m\u001b[0m\n\u001b[0;32m--> 648\u001b[0;31m         \u001b[0;32mreturn\u001b[0m \u001b[0mself\u001b[0m\u001b[0;34m.\u001b[0m\u001b[0mrun\u001b[0m\u001b[0;34m(\u001b[0m\u001b[0;34m*\u001b[0m\u001b[0margs\u001b[0m\u001b[0;34m,\u001b[0m \u001b[0;34m**\u001b[0m\u001b[0mkwds\u001b[0m\u001b[0;34m)\u001b[0m\u001b[0;34m\u001b[0m\u001b[0m\n\u001b[0m\u001b[1;32m    649\u001b[0m \u001b[0;34m\u001b[0m\u001b[0m\n\u001b[1;32m    650\u001b[0m     \u001b[0;32mdef\u001b[0m \u001b[0mdebug\u001b[0m\u001b[0;34m(\u001b[0m\u001b[0mself\u001b[0m\u001b[0;34m)\u001b[0m\u001b[0;34m:\u001b[0m\u001b[0;34m\u001b[0m\u001b[0m\n",
      "\u001b[0;32m/Users/buddha/anaconda/lib/python3.5/unittest/case.py\u001b[0m in \u001b[0;36mrun\u001b[0;34m(self, result)\u001b[0m\n\u001b[1;32m    598\u001b[0m                 \u001b[0moutcome\u001b[0m\u001b[0;34m.\u001b[0m\u001b[0mexpecting_failure\u001b[0m \u001b[0;34m=\u001b[0m \u001b[0mexpecting_failure\u001b[0m\u001b[0;34m\u001b[0m\u001b[0m\n\u001b[1;32m    599\u001b[0m                 \u001b[0;32mwith\u001b[0m \u001b[0moutcome\u001b[0m\u001b[0;34m.\u001b[0m\u001b[0mtestPartExecutor\u001b[0m\u001b[0;34m(\u001b[0m\u001b[0mself\u001b[0m\u001b[0;34m,\u001b[0m \u001b[0misTest\u001b[0m\u001b[0;34m=\u001b[0m\u001b[0;32mTrue\u001b[0m\u001b[0;34m)\u001b[0m\u001b[0;34m:\u001b[0m\u001b[0;34m\u001b[0m\u001b[0m\n\u001b[0;32m--> 600\u001b[0;31m                     \u001b[0mtestMethod\u001b[0m\u001b[0;34m(\u001b[0m\u001b[0;34m)\u001b[0m\u001b[0;34m\u001b[0m\u001b[0m\n\u001b[0m\u001b[1;32m    601\u001b[0m                 \u001b[0moutcome\u001b[0m\u001b[0;34m.\u001b[0m\u001b[0mexpecting_failure\u001b[0m \u001b[0;34m=\u001b[0m \u001b[0;32mFalse\u001b[0m\u001b[0;34m\u001b[0m\u001b[0m\n\u001b[1;32m    602\u001b[0m                 \u001b[0;32mwith\u001b[0m \u001b[0moutcome\u001b[0m\u001b[0;34m.\u001b[0m\u001b[0mtestPartExecutor\u001b[0m\u001b[0;34m(\u001b[0m\u001b[0mself\u001b[0m\u001b[0;34m)\u001b[0m\u001b[0;34m:\u001b[0m\u001b[0;34m\u001b[0m\u001b[0m\n",
      "\u001b[0;32m<ipython-input-11-c356830834dc>\u001b[0m in \u001b[0;36mtest3\u001b[0;34m(self)\u001b[0m\n\u001b[1;32m     25\u001b[0m         \u001b[0mcost\u001b[0m \u001b[0;34m=\u001b[0m \u001b[0;34m[\u001b[0m\u001b[0;36m185\u001b[0m\u001b[0;34m,\u001b[0m\u001b[0;36m130\u001b[0m\u001b[0;34m,\u001b[0m\u001b[0;36m109\u001b[0m\u001b[0;34m,\u001b[0m\u001b[0;36m1\u001b[0m\u001b[0;34m,\u001b[0m\u001b[0;36m45\u001b[0m\u001b[0;34m,\u001b[0m\u001b[0;36m117\u001b[0m\u001b[0;34m,\u001b[0m\u001b[0;36m127\u001b[0m\u001b[0;34m,\u001b[0m\u001b[0;36m13\u001b[0m\u001b[0;34m,\u001b[0m\u001b[0;36m2\u001b[0m\u001b[0;34m,\u001b[0m\u001b[0;36m37\u001b[0m\u001b[0;34m,\u001b[0m\u001b[0;36m6\u001b[0m\u001b[0;34m,\u001b[0m\u001b[0;36m1\u001b[0m\u001b[0;34m,\u001b[0m\u001b[0;36m2\u001b[0m\u001b[0;34m]\u001b[0m\u001b[0;34m\u001b[0m\u001b[0m\n\u001b[1;32m     26\u001b[0m         \u001b[0mcap\u001b[0m \u001b[0;34m=\u001b[0m \u001b[0;34m[\u001b[0m\u001b[0;36m93\u001b[0m\u001b[0;34m,\u001b[0m\u001b[0;36m5\u001b[0m\u001b[0;34m,\u001b[0m\u001b[0;36m278\u001b[0m\u001b[0;34m,\u001b[0m\u001b[0;36m4\u001b[0m\u001b[0;34m,\u001b[0m\u001b[0;36m20\u001b[0m\u001b[0;34m,\u001b[0m\u001b[0;36m54\u001b[0m\u001b[0;34m,\u001b[0m\u001b[0;36m93\u001b[0m\u001b[0;34m,\u001b[0m\u001b[0;36m213\u001b[0m\u001b[0;34m,\u001b[0m\u001b[0;36m103\u001b[0m\u001b[0;34m,\u001b[0m\u001b[0;36m5\u001b[0m\u001b[0;34m,\u001b[0m\u001b[0;36m225\u001b[0m\u001b[0;34m,\u001b[0m\u001b[0;36m32\u001b[0m\u001b[0;34m,\u001b[0m\u001b[0;36m5\u001b[0m\u001b[0;34m]\u001b[0m\u001b[0;34m\u001b[0m\u001b[0m\n\u001b[0;32m---> 27\u001b[0;31m         \u001b[0mself\u001b[0m\u001b[0;34m.\u001b[0m\u001b[0massertTrue\u001b[0m\u001b[0;34m(\u001b[0m\u001b[0mabs\u001b[0m\u001b[0;34m(\u001b[0m\u001b[0mmax_dist\u001b[0m\u001b[0;34m(\u001b[0m\u001b[0mbudget\u001b[0m\u001b[0;34m,\u001b[0m \u001b[0mcost\u001b[0m\u001b[0;34m,\u001b[0m \u001b[0mcap\u001b[0m\u001b[0;34m)\u001b[0m \u001b[0;34m-\u001b[0m \u001b[0;36m190.48376771833563\u001b[0m\u001b[0;34m)\u001b[0m \u001b[0;34m<=\u001b[0m \u001b[0;36m1e-6\u001b[0m\u001b[0;34m)\u001b[0m\u001b[0;34m\u001b[0m\u001b[0m\n\u001b[0m\u001b[1;32m     28\u001b[0m \u001b[0;34m\u001b[0m\u001b[0m\n\u001b[1;32m     29\u001b[0m     \u001b[0;32mdef\u001b[0m \u001b[0mtest4\u001b[0m\u001b[0;34m(\u001b[0m\u001b[0mself\u001b[0m\u001b[0;34m)\u001b[0m\u001b[0;34m:\u001b[0m\u001b[0;34m\u001b[0m\u001b[0m\n",
      "\u001b[0;32m<ipython-input-10-62f2992c19bd>\u001b[0m in \u001b[0;36mmax_dist\u001b[0;34m(budget, costs, caps)\u001b[0m\n\u001b[1;32m      3\u001b[0m     \u001b[0mcaps\u001b[0m \u001b[0;34m=\u001b[0m \u001b[0;34m[\u001b[0m\u001b[0mx\u001b[0m \u001b[0;32mfor\u001b[0m \u001b[0;34m(\u001b[0m\u001b[0my\u001b[0m\u001b[0;34m,\u001b[0m \u001b[0mx\u001b[0m\u001b[0;34m)\u001b[0m \u001b[0;32min\u001b[0m \u001b[0msorted\u001b[0m\u001b[0;34m(\u001b[0m\u001b[0mzip\u001b[0m\u001b[0;34m(\u001b[0m\u001b[0mcosts\u001b[0m\u001b[0;34m,\u001b[0m\u001b[0mcaps\u001b[0m\u001b[0;34m)\u001b[0m\u001b[0;34m)\u001b[0m\u001b[0;34m]\u001b[0m\u001b[0;34m\u001b[0m\u001b[0m\n\u001b[1;32m      4\u001b[0m     \u001b[0mcosts\u001b[0m\u001b[0;34m.\u001b[0m\u001b[0msort\u001b[0m\u001b[0;34m(\u001b[0m\u001b[0;34m)\u001b[0m\u001b[0;34m\u001b[0m\u001b[0m\n\u001b[0;32m----> 5\u001b[0;31m     \u001b[0m_\u001b[0m\u001b[0;34m,\u001b[0m \u001b[0mbots\u001b[0m \u001b[0;34m=\u001b[0m \u001b[0mknapsack_bots\u001b[0m\u001b[0;34m(\u001b[0m\u001b[0mbudget\u001b[0m\u001b[0;34m,\u001b[0m \u001b[0mcosts\u001b[0m\u001b[0;34m,\u001b[0m \u001b[0mcaps\u001b[0m\u001b[0;34m,\u001b[0m \u001b[0;34m[\u001b[0m\u001b[0;34m]\u001b[0m\u001b[0;34m,\u001b[0m \u001b[0;36m0\u001b[0m\u001b[0;34m)\u001b[0m\u001b[0;34m\u001b[0m\u001b[0m\n\u001b[0m\u001b[1;32m      6\u001b[0m     \u001b[0;32mreturn\u001b[0m \u001b[0mdist_calc\u001b[0m\u001b[0;34m(\u001b[0m\u001b[0;34m[\u001b[0m\u001b[0mcaps\u001b[0m\u001b[0;34m[\u001b[0m\u001b[0mx\u001b[0m\u001b[0;34m]\u001b[0m \u001b[0;32mfor\u001b[0m \u001b[0mx\u001b[0m \u001b[0;32min\u001b[0m \u001b[0mbots\u001b[0m\u001b[0;34m]\u001b[0m\u001b[0;34m)\u001b[0m\u001b[0;34m\u001b[0m\u001b[0m\n\u001b[1;32m      7\u001b[0m \u001b[0;34m\u001b[0m\u001b[0m\n",
      "\u001b[0;32m<ipython-input-10-62f2992c19bd>\u001b[0m in \u001b[0;36mknapsack_bots\u001b[0;34m(budget, costs, caps, bought, start)\u001b[0m\n\u001b[1;32m     11\u001b[0m         \u001b[0;32mif\u001b[0m \u001b[0mcost\u001b[0m \u001b[0;34m>\u001b[0m \u001b[0mbudget\u001b[0m\u001b[0;34m:\u001b[0m\u001b[0;34m\u001b[0m\u001b[0m\n\u001b[1;32m     12\u001b[0m             \u001b[0;32mreturn\u001b[0m \u001b[0mbest\u001b[0m\u001b[0;34m\u001b[0m\u001b[0m\n\u001b[0;32m---> 13\u001b[0;31m         best = max(best, max(knapsack_bots(budget - cost, costs, caps, bought + [i], start + 1),\n\u001b[0m\u001b[1;32m     14\u001b[0m                              knapsack_bots(budget, costs, caps, bought, start + 1)))\n\u001b[1;32m     15\u001b[0m     \u001b[0;32mreturn\u001b[0m \u001b[0mbest\u001b[0m\u001b[0;34m\u001b[0m\u001b[0m\n",
      "\u001b[0;32m<ipython-input-10-62f2992c19bd>\u001b[0m in \u001b[0;36mknapsack_bots\u001b[0;34m(budget, costs, caps, bought, start)\u001b[0m\n\u001b[1;32m     11\u001b[0m         \u001b[0;32mif\u001b[0m \u001b[0mcost\u001b[0m \u001b[0;34m>\u001b[0m \u001b[0mbudget\u001b[0m\u001b[0;34m:\u001b[0m\u001b[0;34m\u001b[0m\u001b[0m\n\u001b[1;32m     12\u001b[0m             \u001b[0;32mreturn\u001b[0m \u001b[0mbest\u001b[0m\u001b[0;34m\u001b[0m\u001b[0m\n\u001b[0;32m---> 13\u001b[0;31m         best = max(best, max(knapsack_bots(budget - cost, costs, caps, bought + [i], start + 1),\n\u001b[0m\u001b[1;32m     14\u001b[0m                              knapsack_bots(budget, costs, caps, bought, start + 1)))\n\u001b[1;32m     15\u001b[0m     \u001b[0;32mreturn\u001b[0m \u001b[0mbest\u001b[0m\u001b[0;34m\u001b[0m\u001b[0m\n",
      "\u001b[0;32m<ipython-input-10-62f2992c19bd>\u001b[0m in \u001b[0;36mknapsack_bots\u001b[0;34m(budget, costs, caps, bought, start)\u001b[0m\n\u001b[1;32m     11\u001b[0m         \u001b[0;32mif\u001b[0m \u001b[0mcost\u001b[0m \u001b[0;34m>\u001b[0m \u001b[0mbudget\u001b[0m\u001b[0;34m:\u001b[0m\u001b[0;34m\u001b[0m\u001b[0m\n\u001b[1;32m     12\u001b[0m             \u001b[0;32mreturn\u001b[0m \u001b[0mbest\u001b[0m\u001b[0;34m\u001b[0m\u001b[0m\n\u001b[0;32m---> 13\u001b[0;31m         best = max(best, max(knapsack_bots(budget - cost, costs, caps, bought + [i], start + 1),\n\u001b[0m\u001b[1;32m     14\u001b[0m                              knapsack_bots(budget, costs, caps, bought, start + 1)))\n\u001b[1;32m     15\u001b[0m     \u001b[0;32mreturn\u001b[0m \u001b[0mbest\u001b[0m\u001b[0;34m\u001b[0m\u001b[0m\n",
      "\u001b[0;32m<ipython-input-10-62f2992c19bd>\u001b[0m in \u001b[0;36mknapsack_bots\u001b[0;34m(budget, costs, caps, bought, start)\u001b[0m\n\u001b[1;32m     12\u001b[0m             \u001b[0;32mreturn\u001b[0m \u001b[0mbest\u001b[0m\u001b[0;34m\u001b[0m\u001b[0m\n\u001b[1;32m     13\u001b[0m         best = max(best, max(knapsack_bots(budget - cost, costs, caps, bought + [i], start + 1),\n\u001b[0;32m---> 14\u001b[0;31m                              knapsack_bots(budget, costs, caps, bought, start + 1)))\n\u001b[0m\u001b[1;32m     15\u001b[0m     \u001b[0;32mreturn\u001b[0m \u001b[0mbest\u001b[0m\u001b[0;34m\u001b[0m\u001b[0m\n\u001b[1;32m     16\u001b[0m \u001b[0;34m\u001b[0m\u001b[0m\n",
      "\u001b[0;32m<ipython-input-10-62f2992c19bd>\u001b[0m in \u001b[0;36mknapsack_bots\u001b[0;34m(budget, costs, caps, bought, start)\u001b[0m\n\u001b[1;32m     12\u001b[0m             \u001b[0;32mreturn\u001b[0m \u001b[0mbest\u001b[0m\u001b[0;34m\u001b[0m\u001b[0m\n\u001b[1;32m     13\u001b[0m         best = max(best, max(knapsack_bots(budget - cost, costs, caps, bought + [i], start + 1),\n\u001b[0;32m---> 14\u001b[0;31m                              knapsack_bots(budget, costs, caps, bought, start + 1)))\n\u001b[0m\u001b[1;32m     15\u001b[0m     \u001b[0;32mreturn\u001b[0m \u001b[0mbest\u001b[0m\u001b[0;34m\u001b[0m\u001b[0m\n\u001b[1;32m     16\u001b[0m \u001b[0;34m\u001b[0m\u001b[0m\n",
      "\u001b[0;32m<ipython-input-10-62f2992c19bd>\u001b[0m in \u001b[0;36mknapsack_bots\u001b[0;34m(budget, costs, caps, bought, start)\u001b[0m\n\u001b[1;32m     12\u001b[0m             \u001b[0;32mreturn\u001b[0m \u001b[0mbest\u001b[0m\u001b[0;34m\u001b[0m\u001b[0m\n\u001b[1;32m     13\u001b[0m         best = max(best, max(knapsack_bots(budget - cost, costs, caps, bought + [i], start + 1),\n\u001b[0;32m---> 14\u001b[0;31m                              knapsack_bots(budget, costs, caps, bought, start + 1)))\n\u001b[0m\u001b[1;32m     15\u001b[0m     \u001b[0;32mreturn\u001b[0m \u001b[0mbest\u001b[0m\u001b[0;34m\u001b[0m\u001b[0m\n\u001b[1;32m     16\u001b[0m \u001b[0;34m\u001b[0m\u001b[0m\n",
      "\u001b[0;32m<ipython-input-10-62f2992c19bd>\u001b[0m in \u001b[0;36mknapsack_bots\u001b[0;34m(budget, costs, caps, bought, start)\u001b[0m\n\u001b[1;32m     12\u001b[0m             \u001b[0;32mreturn\u001b[0m \u001b[0mbest\u001b[0m\u001b[0;34m\u001b[0m\u001b[0m\n\u001b[1;32m     13\u001b[0m         best = max(best, max(knapsack_bots(budget - cost, costs, caps, bought + [i], start + 1),\n\u001b[0;32m---> 14\u001b[0;31m                              knapsack_bots(budget, costs, caps, bought, start + 1)))\n\u001b[0m\u001b[1;32m     15\u001b[0m     \u001b[0;32mreturn\u001b[0m \u001b[0mbest\u001b[0m\u001b[0;34m\u001b[0m\u001b[0m\n\u001b[1;32m     16\u001b[0m \u001b[0;34m\u001b[0m\u001b[0m\n",
      "\u001b[0;32m<ipython-input-10-62f2992c19bd>\u001b[0m in \u001b[0;36mknapsack_bots\u001b[0;34m(budget, costs, caps, bought, start)\u001b[0m\n\u001b[1;32m     12\u001b[0m             \u001b[0;32mreturn\u001b[0m \u001b[0mbest\u001b[0m\u001b[0;34m\u001b[0m\u001b[0m\n\u001b[1;32m     13\u001b[0m         best = max(best, max(knapsack_bots(budget - cost, costs, caps, bought + [i], start + 1),\n\u001b[0;32m---> 14\u001b[0;31m                              knapsack_bots(budget, costs, caps, bought, start + 1)))\n\u001b[0m\u001b[1;32m     15\u001b[0m     \u001b[0;32mreturn\u001b[0m \u001b[0mbest\u001b[0m\u001b[0;34m\u001b[0m\u001b[0m\n\u001b[1;32m     16\u001b[0m \u001b[0;34m\u001b[0m\u001b[0m\n",
      "\u001b[0;32m<ipython-input-10-62f2992c19bd>\u001b[0m in \u001b[0;36mknapsack_bots\u001b[0;34m(budget, costs, caps, bought, start)\u001b[0m\n\u001b[1;32m     12\u001b[0m             \u001b[0;32mreturn\u001b[0m \u001b[0mbest\u001b[0m\u001b[0;34m\u001b[0m\u001b[0m\n\u001b[1;32m     13\u001b[0m         best = max(best, max(knapsack_bots(budget - cost, costs, caps, bought + [i], start + 1),\n\u001b[0;32m---> 14\u001b[0;31m                              knapsack_bots(budget, costs, caps, bought, start + 1)))\n\u001b[0m\u001b[1;32m     15\u001b[0m     \u001b[0;32mreturn\u001b[0m \u001b[0mbest\u001b[0m\u001b[0;34m\u001b[0m\u001b[0m\n\u001b[1;32m     16\u001b[0m \u001b[0;34m\u001b[0m\u001b[0m\n",
      "\u001b[0;32m<ipython-input-10-62f2992c19bd>\u001b[0m in \u001b[0;36mknapsack_bots\u001b[0;34m(budget, costs, caps, bought, start)\u001b[0m\n\u001b[1;32m     12\u001b[0m             \u001b[0;32mreturn\u001b[0m \u001b[0mbest\u001b[0m\u001b[0;34m\u001b[0m\u001b[0m\n\u001b[1;32m     13\u001b[0m         best = max(best, max(knapsack_bots(budget - cost, costs, caps, bought + [i], start + 1),\n\u001b[0;32m---> 14\u001b[0;31m                              knapsack_bots(budget, costs, caps, bought, start + 1)))\n\u001b[0m\u001b[1;32m     15\u001b[0m     \u001b[0;32mreturn\u001b[0m \u001b[0mbest\u001b[0m\u001b[0;34m\u001b[0m\u001b[0m\n\u001b[1;32m     16\u001b[0m \u001b[0;34m\u001b[0m\u001b[0m\n",
      "\u001b[0;32m<ipython-input-10-62f2992c19bd>\u001b[0m in \u001b[0;36mknapsack_bots\u001b[0;34m(budget, costs, caps, bought, start)\u001b[0m\n\u001b[1;32m     12\u001b[0m             \u001b[0;32mreturn\u001b[0m \u001b[0mbest\u001b[0m\u001b[0;34m\u001b[0m\u001b[0m\n\u001b[1;32m     13\u001b[0m         best = max(best, max(knapsack_bots(budget - cost, costs, caps, bought + [i], start + 1),\n\u001b[0;32m---> 14\u001b[0;31m                              knapsack_bots(budget, costs, caps, bought, start + 1)))\n\u001b[0m\u001b[1;32m     15\u001b[0m     \u001b[0;32mreturn\u001b[0m \u001b[0mbest\u001b[0m\u001b[0;34m\u001b[0m\u001b[0m\n\u001b[1;32m     16\u001b[0m \u001b[0;34m\u001b[0m\u001b[0m\n",
      "\u001b[0;32m<ipython-input-10-62f2992c19bd>\u001b[0m in \u001b[0;36mknapsack_bots\u001b[0;34m(budget, costs, caps, bought, start)\u001b[0m\n\u001b[1;32m     12\u001b[0m             \u001b[0;32mreturn\u001b[0m \u001b[0mbest\u001b[0m\u001b[0;34m\u001b[0m\u001b[0m\n\u001b[1;32m     13\u001b[0m         best = max(best, max(knapsack_bots(budget - cost, costs, caps, bought + [i], start + 1),\n\u001b[0;32m---> 14\u001b[0;31m                              knapsack_bots(budget, costs, caps, bought, start + 1)))\n\u001b[0m\u001b[1;32m     15\u001b[0m     \u001b[0;32mreturn\u001b[0m \u001b[0mbest\u001b[0m\u001b[0;34m\u001b[0m\u001b[0m\n\u001b[1;32m     16\u001b[0m \u001b[0;34m\u001b[0m\u001b[0m\n",
      "\u001b[0;32m<ipython-input-10-62f2992c19bd>\u001b[0m in \u001b[0;36mknapsack_bots\u001b[0;34m(budget, costs, caps, bought, start)\u001b[0m\n\u001b[1;32m      7\u001b[0m \u001b[0;34m\u001b[0m\u001b[0m\n\u001b[1;32m      8\u001b[0m \u001b[0;32mdef\u001b[0m \u001b[0mknapsack_bots\u001b[0m\u001b[0;34m(\u001b[0m\u001b[0mbudget\u001b[0m\u001b[0;34m,\u001b[0m \u001b[0mcosts\u001b[0m\u001b[0;34m,\u001b[0m \u001b[0mcaps\u001b[0m\u001b[0;34m,\u001b[0m \u001b[0mbought\u001b[0m\u001b[0;34m,\u001b[0m \u001b[0mstart\u001b[0m\u001b[0;34m)\u001b[0m\u001b[0;34m:\u001b[0m\u001b[0;34m\u001b[0m\u001b[0m\n\u001b[0;32m----> 9\u001b[0;31m     \u001b[0mbest\u001b[0m \u001b[0;34m=\u001b[0m \u001b[0;34m(\u001b[0m\u001b[0mcap_sum\u001b[0m\u001b[0;34m(\u001b[0m\u001b[0mbought\u001b[0m\u001b[0;34m,\u001b[0m \u001b[0mcaps\u001b[0m\u001b[0;34m)\u001b[0m\u001b[0;34m,\u001b[0m \u001b[0mbought\u001b[0m\u001b[0;34m)\u001b[0m\u001b[0;34m\u001b[0m\u001b[0m\n\u001b[0m\u001b[1;32m     10\u001b[0m     \u001b[0;32mfor\u001b[0m \u001b[0mi\u001b[0m\u001b[0;34m,\u001b[0m \u001b[0mcost\u001b[0m \u001b[0;32min\u001b[0m \u001b[0menumerate\u001b[0m\u001b[0;34m(\u001b[0m\u001b[0mcosts\u001b[0m\u001b[0;34m[\u001b[0m\u001b[0mstart\u001b[0m\u001b[0;34m:\u001b[0m\u001b[0;34m]\u001b[0m\u001b[0;34m)\u001b[0m\u001b[0;34m:\u001b[0m\u001b[0;34m\u001b[0m\u001b[0m\n\u001b[1;32m     11\u001b[0m         \u001b[0;32mif\u001b[0m \u001b[0mcost\u001b[0m \u001b[0;34m>\u001b[0m \u001b[0mbudget\u001b[0m\u001b[0;34m:\u001b[0m\u001b[0;34m\u001b[0m\u001b[0m\n",
      "\u001b[0;32m<ipython-input-10-62f2992c19bd>\u001b[0m in \u001b[0;36mcap_sum\u001b[0;34m(bought, caps)\u001b[0m\n\u001b[1;32m     16\u001b[0m \u001b[0;34m\u001b[0m\u001b[0m\n\u001b[1;32m     17\u001b[0m \u001b[0;32mdef\u001b[0m \u001b[0mcap_sum\u001b[0m\u001b[0;34m(\u001b[0m\u001b[0mbought\u001b[0m\u001b[0;34m,\u001b[0m \u001b[0mcaps\u001b[0m\u001b[0;34m)\u001b[0m\u001b[0;34m:\u001b[0m\u001b[0;34m\u001b[0m\u001b[0m\n\u001b[0;32m---> 18\u001b[0;31m     \u001b[0;32mreturn\u001b[0m \u001b[0msum\u001b[0m\u001b[0;34m(\u001b[0m\u001b[0mcaps\u001b[0m\u001b[0;34m[\u001b[0m\u001b[0mbot\u001b[0m\u001b[0;34m]\u001b[0m \u001b[0;32mfor\u001b[0m \u001b[0mbot\u001b[0m \u001b[0;32min\u001b[0m \u001b[0mbought\u001b[0m\u001b[0;34m)\u001b[0m\u001b[0;34m\u001b[0m\u001b[0m\n\u001b[0m\u001b[1;32m     19\u001b[0m \u001b[0;34m\u001b[0m\u001b[0m\n\u001b[1;32m     20\u001b[0m \u001b[0;32mdef\u001b[0m \u001b[0mdist_calc\u001b[0m\u001b[0;34m(\u001b[0m\u001b[0mcaps\u001b[0m\u001b[0;34m)\u001b[0m\u001b[0;34m:\u001b[0m\u001b[0;34m\u001b[0m\u001b[0m\n",
      "\u001b[0;32m<ipython-input-10-62f2992c19bd>\u001b[0m in \u001b[0;36m<genexpr>\u001b[0;34m(.0)\u001b[0m\n\u001b[1;32m     16\u001b[0m \u001b[0;34m\u001b[0m\u001b[0m\n\u001b[1;32m     17\u001b[0m \u001b[0;32mdef\u001b[0m \u001b[0mcap_sum\u001b[0m\u001b[0;34m(\u001b[0m\u001b[0mbought\u001b[0m\u001b[0;34m,\u001b[0m \u001b[0mcaps\u001b[0m\u001b[0;34m)\u001b[0m\u001b[0;34m:\u001b[0m\u001b[0;34m\u001b[0m\u001b[0m\n\u001b[0;32m---> 18\u001b[0;31m     \u001b[0;32mreturn\u001b[0m \u001b[0msum\u001b[0m\u001b[0;34m(\u001b[0m\u001b[0mcaps\u001b[0m\u001b[0;34m[\u001b[0m\u001b[0mbot\u001b[0m\u001b[0;34m]\u001b[0m \u001b[0;32mfor\u001b[0m \u001b[0mbot\u001b[0m \u001b[0;32min\u001b[0m \u001b[0mbought\u001b[0m\u001b[0;34m)\u001b[0m\u001b[0;34m\u001b[0m\u001b[0m\n\u001b[0m\u001b[1;32m     19\u001b[0m \u001b[0;34m\u001b[0m\u001b[0m\n\u001b[1;32m     20\u001b[0m \u001b[0;32mdef\u001b[0m \u001b[0mdist_calc\u001b[0m\u001b[0;34m(\u001b[0m\u001b[0mcaps\u001b[0m\u001b[0;34m)\u001b[0m\u001b[0;34m:\u001b[0m\u001b[0;34m\u001b[0m\u001b[0m\n",
      "\u001b[0;31mKeyboardInterrupt\u001b[0m: "
     ]
    }
   ],
   "source": [
    "import unittest\n",
    "\n",
    "class TestMaxDist(unittest.TestCase):\n",
    "    \n",
    "    def test0(self):\n",
    "        budget = 25\n",
    "        costs = [23,5,8,20,15]\n",
    "        caps = [108,30,42,100,94]\n",
    "        self.assertTrue(abs(max_dist(budget, costs, caps) - 55.0) <= 1e-6)\n",
    "    \n",
    "    def test1(self):\n",
    "        budget = 1382\n",
    "        costs = [0,0,0,1000,1000,0,1000,0]\n",
    "        caps = [2039,4819,5923,1577,8749,9182,3652,4918]\n",
    "        self.assertTrue(abs(max_dist(budget, costs, caps) - 6503.238683127572) <= 1e-6)\n",
    "    \n",
    "    def test2(self):\n",
    "        budget = 100\n",
    "        costs = [50, 25]\n",
    "        caps = [1, 1]\n",
    "        self.assertTrue(abs(max_dist(budget, costs, caps) - 0.6666666666666666) <= 1e-6)\n",
    "    \n",
    "    def test3(self):\n",
    "        budget = 209\n",
    "        costs = [185,130,109,1,45,117,127,13,2,37,6,1,2]\n",
    "        caps = [93,5,278,4,20,54,93,213,103,5,225,32,5]\n",
    "        self.assertTrue(abs(max_dist(budget, costs, caps) - 190.48376771833563) <= 1e-6)\n",
    "    \n",
    "    def test4(self):\n",
    "        budget = 9956\n",
    "        costs = [3229,736,1325,2680,410,1227,1378,499,1525,1722,1262,2080,2581,\n",
    "                1505,1019,480,3155,836,2697,616,136,2032,2345,3154,1953,1654,\n",
    "                344,3079,1426,199,2857,1714,2952,996,1567,2674,2054,2110,949,\n",
    "                2412,2148,1016,234,1932,1554,1943,1625,1266,258,2924,49,1693,\n",
    "                3140,309,557,12,2760,227,2497,330,646,1935,3032,2671,2433,164,\n",
    "                1472,3080,717,221,2483,1309,1174,12,917,2335,3086,148,64,189,\n",
    "                2628,1660,2983,109,1920,2470]\n",
    "        caps = [34850,214,15807606,2426,176520,1900009,1184867,40550,1774843,2953,\n",
    "               77834310,7276,3139890,695,213862217,13,193864,189,557664,1206555,\n",
    "               85133,381662,4887,115027,2186890,218075,1,2024,9,95244962,7,906,\n",
    "               3485642,52962078,58645759,785706,303,18,189,819600,17528041,11616471,\n",
    "               92719012,82351,12752,634,26122233,215485,58,5506810,101874,130429471,\n",
    "               2,1,68966,76303,321766922,463,26,225,207,52,1739,246841,496,228,4749453,\n",
    "               191,79,10560,1414194,7529,13,521935,1,2,11590618,4020,105,3,28,3,2855,\n",
    "               189909573,1,295052]\n",
    "        self.assertTrue(abs(max_dist(budget, costs, caps) - 2.1034261053998655e8) <= 1e-6)\n",
    "    \n",
    "    def test5(self):\n",
    "        budget = 8852\n",
    "        costs = [2547,912,2592,1085,296,523,2257,2347,1822,261,334,2159,528,2739,201,\n",
    "                964,427,2038,26,2361,234,2063,2885,2178,2708,730,2902,326,306,2794,\n",
    "                1725,13,137,2169,388,1124,1464,2120,2357,1544,2794,2260,185,650,2852,\n",
    "                124,1767,453,1331,1397,1991,1166,413,1428,2862,1194,1139,571,1299,1232,\n",
    "                267,2027,746,1971,2695,2586,185,1319,1088,2818,2604,1798,475,1252,1767,\n",
    "                2277,545,601,2160,325,2749,1161,1172,1075,1925,2468,1596,1116,1558,2226,\n",
    "                1302,796,775,1105,418,334,2872,1921,2830,2448,2914,2634,1386,2516,492,1029,\n",
    "                1134,2934,2017,1741,1675,2593,2233,2401,68,683,2053,155,183,923,2276,1823,\n",
    "                65,2290,2448,92,2468,819,837,303,1440,705,291,2348,2562,765,1926,14,2514,\n",
    "                2403,2671,1143,1358,121,376,2874,2447,1769,1686,967,967,2492,2472,2014,\n",
    "                1686,2291,1093,1801,818]\n",
    "        caps = [263268,256181,476791,365614,265352,19307,243180,84909,98175,367524,241474,\n",
    "               479623,277638,111229,155356,415525,234382,97870,451466,58375,268277,404582,\n",
    "               484789,458230,529286,449840,103208,199505,319373,294746,78005,326456,14418,\n",
    "               257144,135669,238651,411723,99122,20421,298154,278407,153564,24778,73065,\n",
    "               110408,392693,510192,362399,333830,125893,130946,345134,261418,230632,\n",
    "               306751,451242,175675,459988,150787,349338,134594,255227,263645,180770,436965,\n",
    "               502871,242085,318340,220576,189202,395789,390659,101649,337117,440471,466547,\n",
    "               513054,316694,30382,38826,472506,67698,223953,397305,325564,57949,194651,\n",
    "               443500,443188,431386,220061,400640,286085,189461,324214,171813,420711,260549,\n",
    "               426526,208052,83343,429483,366076,52443,224742,333286,544259,335276,93282,326772,\n",
    "               82841,225256,270357,547610,397526,193336,182374,439866,255860,111363,509167,\n",
    "               228847,218257,39438,212242,378338,88972,127544,59230,428847,155553,116333,\n",
    "               255176,396356,223463,226360,38283,6238,173455,447707,332111,60485,398523,462205,\n",
    "               55397,148417,529738,460063,177715,404809,336155,50750,24165,530386,394811,512481,\n",
    "               230296,45797,370008]\n",
    "        self.assertTrue(abs(max_dist(budget, costs, caps) - 408339.7312486240) <= 1e-6)\n",
    "        \n",
    "suite = unittest.TestLoader().loadTestsFromTestCase(TestMaxDist)\n",
    "unittest.TextTestRunner(verbosity=2).run(suite)\n",
    "        "
   ]
  },
  {
   "cell_type": "markdown",
   "metadata": {},
   "source": [
    "\n",
    " \n",
    "Examples\n",
    "0)\t\n",
    "    \t\n",
    "100\n",
    "{50,25}\n",
    "{1,1}\n",
    "Returns: 0.6666666666666666\n",
    "In this case, Ctu has a budget of 100 dollars. He can buy both robots for 50+25 = 75 dollars. One of the robots will get the number 1 and the other will get the number 2. If they cooperate, one of these robots can reach the position 2/3 = 0.666666667. Here's how an optimal program looks like: Both robots travel together to the position 1/3. At this moment, each of them has 2/3 of a unit of fuel in its fuel tank. Robot 1 donates 1/3 of a unit of fuel to robot 2 and turns back. Robot 2 now has a full fuel tank again. It continues to the position 2/3. There it turns back and returns to position 0.\n",
    "1)\t\n",
    "    \t\n",
    "25\n",
    "{23,5,8,20,15}\n",
    "{108,30,42,100,94}\n",
    "Returns: 55.0\n",
    "2)\t\n",
    "    \t\n",
    "1382\n",
    "{0,0,0,1000,1000,0,1000,0}\n",
    "{2039,4819,5923,1577,8749,9182,3652,4918}\n",
    "Returns: 6503.238683127572\n",
    "3)\t\n",
    "    \t\n",
    "209\n",
    "{185,130,109,1,45,117,127,13,2,37,6,1,2}\n",
    "{93,5,278,4,20,54,93,213,103,5,225,32,5}\n",
    "Returns: 190.48376771833563\n",
    "4)\t\n",
    "    \t\n",
    "9956\n",
    "{3229,736,1325,2680,410,1227,1378,499,1525,1722,1262,2080,2581,1505,1019,\n",
    "480,3155,836,2697,616,136,2032,2345,3154,1953,1654,344,3079,1426,199,2857,\n",
    "1714,2952,996,1567,2674,2054,2110,949,2412,2148,1016,234,1932,1554,1943,\n",
    "1625,1266,258,2924,49,1693,3140,309,557,12,2760,227,2497,330,646,1935,3032,\n",
    "2671,2433,164,1472,3080,717,221,2483,1309,1174,12,917,2335,3086,148,64,189,\n",
    "2628,1660,2983,109,1920,2470}\n",
    "{934850,214,15807606,2426,176520,1900009,1184867,40550,1774843,2953,77834310,\n",
    "7276,3139890,695,213862217,13,193864,189,557664,1206555,85133,381662,4887,\n",
    "115027,2186890,218075,1,2024,9,95244962,7,906,3485642,52962078,58645759,785706,\n",
    "303,18,189,819600,17528041,11616471,92719012,82351,12752,634,26122233,215485,\n",
    "58,5506810,101874,130429471,2,1,68966,76303,321766922,463,26,225,207,52,1739,\n",
    "246841,496,228,4749453,191,79,10560,1414194,7529,13,521935,1,2,11590618,4020,\n",
    "105,3,28,3,2855,189909573,1,295052}\n",
    "Returns: 2.1034261053998655E8\n",
    "5)\t\n",
    "    \t\n",
    "8852\n",
    "{2547,912,2592,1085,296,523,2257,2347,1822,261,334,2159,528,2739,201,964,427,\n",
    "2038,26,2361,234,2063,2885,2178,2708,730,2902,326,306,2794,1725,13,137,2169,\n",
    "388,1124,1464,2120,2357,1544,2794,2260,185,650,2852,124,1767,453,1331,1397,\n",
    "1991,1166,413,1428,2862,1194,1139,571,1299,1232,267,2027,746,1971,2695,2586,\n",
    "185,1319,1088,2818,2604,1798,475,1252,1767,2277,545,601,2160,325,2749,1161,\n",
    "1172,1075,1925,2468,1596,1116,1558,2226,1302,796,775,1105,418,334,2872,1921,\n",
    "2830,2448,2914,2634,1386,2516,492,1029,1134,2934,2017,1741,1675,2593,2233,\n",
    "2401,68,683,2053,155,183,923,2276,1823,65,2290,2448,92,2468,819,837,303,1440,\n",
    "705,291,2348,2562,765,1926,14,2514,2403,2671,1143,1358,121,376,2874,2447,1769,\n",
    "1686,967,967,2492,2472,2014,1686,2291,1093,1801,818}\n",
    "{263268,256181,476791,365614,265352,19307,243180,84909,98175,367524,241474,479623,\n",
    "277638,111229,155356,415525,234382,97870,451466,58375,268277,404582,484789,458230,\n",
    "529286,449840,103208,199505,319373,294746,78005,326456,14418,257144,135669,238651,\n",
    "411723,99122,20421,298154,278407,153564,24778,73065,110408,392693,510192,362399,\n",
    "333830,125893,130946,345134,261418,230632,306751,451242,175675,459988,150787,349338,\n",
    "134594,255227,263645,180770,436965,502871,242085,318340,220576,189202,395789,390659,\n",
    "101649,337117,440471,466547,513054,316694,30382,38826,472506,67698,223953,397305,\n",
    "325564,57949,194651,443500,443188,431386,220061,400640,286085,189461,324214,171813,\n",
    "420711,260549,426526,208052,83343,429483,366076,52443,224742,333286,544259,335276,\n",
    "93282,326772,82841,225256,270357,547610,397526,193336,182374,439866,255860,111363,\n",
    "509167,228847,218257,39438,212242,378338,88972,127544,59230,428847,155553,116333,\n",
    "255176,396356,223463,226360,38283,6238,173455,447707,332111,60485,398523,462205,\n",
    "55397,148417,529738,460063,177715,404809,336155,50750,24165,530386,394811,512481,\n",
    "230296,45797,370008}\n",
    "Returns: 408339.73124862404"
   ]
  }
 ],
 "metadata": {
  "kernelspec": {
   "display_name": "Python 3",
   "language": "python",
   "name": "python3"
  },
  "language_info": {
   "codemirror_mode": {
    "name": "ipython",
    "version": 3
   },
   "file_extension": ".py",
   "mimetype": "text/x-python",
   "name": "python",
   "nbconvert_exporter": "python",
   "pygments_lexer": "ipython3",
   "version": "3.5.1"
  }
 },
 "nbformat": 4,
 "nbformat_minor": 0
}
