{
 "cells": [
  {
   "cell_type": "markdown",
   "metadata": {},
   "source": [
    "Algorithm for TopCoder's RGBTree problem."
   ]
  },
  {
   "cell_type": "code",
   "execution_count": 1,
   "metadata": {
    "collapsed": false
   },
   "outputs": [],
   "source": [
    "def rgb_tree(G):\n",
    "    if not enough_edges(G):\n",
    "        return \"Does not exist\"\n",
    "    row = 0\n",
    "    max_count = (len(G) - 1)/3\n",
    "    counts = {'G': max_count, 'R': max_count, 'B': max_count}\n",
    "    chosen = set()\n",
    "    memo = set()\n",
    "    if search_trees(G, row, counts, chosen, memo):\n",
    "        return \"Exists\"\n",
    "    return \"Does not exist\"\n",
    "\n",
    "def enough_edges(G):\n",
    "    min_count = (len(G) - 1)*2/3\n",
    "    green_count = red_count = blue_count = 0\n",
    "    for row in G:\n",
    "        for edge in row:\n",
    "            if edge == 'G':\n",
    "                green_count += 1\n",
    "            elif edge == 'R':\n",
    "                red_count += 1\n",
    "            elif edge == 'B':\n",
    "                blue_count += 1\n",
    "    if green_count >= min_count and red_count >= min_count and blue_count >= min_count:\n",
    "        return True\n",
    "    return False\n",
    "\n",
    "def search_trees(G, row, counts, chosen, memo):\n",
    "    if (row, frozenset(chosen)) in memo:\n",
    "        return False\n",
    "    memo.add((row, frozenset(chosen)))\n",
    "    return _search_trees(G, row, counts, chosen, memo)\n",
    "\n",
    "def _search_trees(G, row, counts, chosen, memo):\n",
    "    colors = set([color for color in counts.keys() if counts[color] > 0])\n",
    "    for column, color in enumerate(G[row]):\n",
    "        edge = tuple(sorted([row, column]))\n",
    "        if color in colors and edge not in chosen:\n",
    "            if row == len(G) - 2:\n",
    "                return True\n",
    "            counts[color] -= 1\n",
    "            if search_trees(G, row + 1, counts, chosen | set([edge]), memo):\n",
    "                return True\n",
    "            counts[color] += 1\n",
    "    return False\n",
    "            \n",
    "    "
   ]
  },
  {
   "cell_type": "code",
   "execution_count": 2,
   "metadata": {
    "collapsed": false
   },
   "outputs": [
    {
     "name": "stdout",
     "output_type": "stream",
     "text": [
      "['..B..........',\n",
      " '...B.........',\n",
      " 'B..G.......RG',\n",
      " '.BG...R......',\n",
      " '......B......',\n",
      " '.......B.....',\n",
      " '...RB.......G',\n",
      " '.....B......G',\n",
      " '..........B..',\n",
      " '...........B.',\n",
      " '........B...R',\n",
      " '..R......B..R',\n",
      " '..G...GG..RR.']\n"
     ]
    },
    {
     "data": {
      "text/plain": [
       "'Does not exist'"
      ]
     },
     "execution_count": 2,
     "metadata": {},
     "output_type": "execute_result"
    }
   ],
   "source": [
    "#Example that breaks the topcoder summary python solution, but not mine\n",
    "import pprint\n",
    "G = [['.' for i in range(13)] for i in range(13)]\n",
    "blue = [(0, 2), (1, 3), (4, 6), (5, 7), (8, 10), (9, 11)]\n",
    "red = [(2, 11), (11, 12), (10, 12), (3, 6)]\n",
    "green = [(2, 3), (2, 12), (7, 12), (6, 12)]\n",
    "colors = {'B': blue, 'R': red, 'G': green}\n",
    "for color in colors.keys():\n",
    "    for (i, j) in colors[color]:\n",
    "        G[i][j] = G[j][i] = color\n",
    "G = [''.join(row) for row in G]\n",
    "pprint.pprint(G)\n",
    "rgb_tree(G)"
   ]
  },
  {
   "cell_type": "code",
   "execution_count": 70,
   "metadata": {
    "collapsed": false
   },
   "outputs": [
    {
     "name": "stderr",
     "output_type": "stream",
     "text": [
      "test0 (__main__.TestRGBTree) ... ok\n",
      "test1 (__main__.TestRGBTree) ... ok\n",
      "test2 (__main__.TestRGBTree) ... ok\n",
      "test3 (__main__.TestRGBTree) ... ok\n",
      "test4 (__main__.TestRGBTree) ... ok\n",
      "test5 (__main__.TestRGBTree) ... ok\n",
      "\n",
      "----------------------------------------------------------------------\n",
      "Ran 6 tests in 0.010s\n",
      "\n",
      "OK\n"
     ]
    },
    {
     "data": {
      "text/plain": [
       "<unittest.runner.TextTestResult run=6 errors=0 failures=0>"
      ]
     },
     "execution_count": 70,
     "metadata": {},
     "output_type": "execute_result"
    }
   ],
   "source": [
    "import unittest\n",
    "\n",
    "class TestRGBTree(unittest.TestCase):\n",
    "    \n",
    "    def test0(self):\n",
    "        G = [\".RGB\", \"R...\", \"G...\", \"B...\"]\n",
    "        self.assertEqual(rgb_tree(G), \"Exists\")\n",
    "    \n",
    "    def test1(self):\n",
    "        G = [\".RRB\", \"R...\", \"R...\", \"B...\"]\n",
    "        self.assertEqual(rgb_tree(G), \"Does not exist\")\n",
    "    \n",
    "    def test2(self):\n",
    "        G = [\".R..BG..G..RG\",\"R...GG..BR.G.\",\"...G.GG.RR.BB\",\n",
    "             \"..G.RR.B..GRB\",\"BG.R.G.BRRR.G\",\"GGGRG.R....RR\",\n",
    "             \"..G..R.BGRR..\",\"...BB.B.RB.G.\",\"GBR.R.GR.B.R.\",\n",
    "             \".RR.R.RBB.BRB\",\"...GR.R..B...\",\"RGBR.R.GRR...\",\"G.BBGR...B...\"]\n",
    "        self.assertEqual(rgb_tree(G), \"Exists\")\n",
    "    \n",
    "    def test3(self):\n",
    "        G = [\".............\",\".......BB.R..\",\".......RR....\",\n",
    "              \".....G.G....R\",\"........BB...\",\"...G.........\",\n",
    "              \"........B...R\",\".BRG.......G.\",\".BR.B.B...GB.\",\n",
    "              \"....B......GR\",\".R......G....\",\".......GBG..B\",\"...R..R..R.B.\"]\n",
    "        self.assertEqual(rgb_tree(G), \"Does not exist\")\n",
    "    \n",
    "    def test4(self):\n",
    "        G = [\"..B.BB...RB..\",\"......R..B.G.\",\"B.......BB...\",\n",
    "             \".......R...G.\",\"B....GRB..R..\",\"B...G.RG.R...\",\n",
    "             \".R..RR..B.RB.\",\"...RBG...G...\",\"..B...B......\",\n",
    "             \"RBB..R.G....R\",\"B...R.R......\",\".G.G..B.....R\",\".........R.R.\"]\n",
    "        self.assertEqual(rgb_tree(G), \"Exists\")\n",
    "    \n",
    "    def test5(self):\n",
    "        G = [\"....\", \"....\", \"....\", \"....\"]\n",
    "        self.assertEqual(rgb_tree(G), \"Does not exist\")\n",
    "        \n",
    "suite = unittest.TestLoader().loadTestsFromTestCase(TestRGBTree)\n",
    "unittest.TextTestRunner(verbosity=2).run(suite)"
   ]
  },
  {
   "cell_type": "markdown",
   "metadata": {},
   "source": [
    " \n",
    "Examples\n",
    "\n",
    "0)\t\n",
    "    \t\n",
    "{\".RGB\",\n",
    " \"R...\",\n",
    " \"G...\",\n",
    " \"B...\"}\n",
    "Returns: \"Exist\"\n",
    "This graph has exactly three edges: one red, one green, and one blue. These three edges form the desired spanning tree.\n",
    "\n",
    "\n",
    "1)\t\n",
    "    \t\n",
    "{\".RRB\",\n",
    " \"R...\",\n",
    " \"R...\",\n",
    " \"B...\"}\n",
    "Returns: \"Does not exist\"\n",
    "This graph does also have a spanning tree. Its only spanning tree contains the edges (0,1), (0,2), and (0,3). However, this spanning tree contains two red and no green edges. Thus, a spanning tree with the desired property does not exist.\n",
    "\n",
    "2)\t\n",
    "    \t\n",
    "{\".R..BG..G..RG\",\"R...GG..BR.G.\",\"...G.GG.RR.BB\",\"..G.RR.B..GRB\",\"BG.R.G.BRRR.G\",\"GGGRG.R....RR\",\"..G..R.BGRR..\",\"...BB.B.RB.G.\",\"GBR.R.GR.B.R.\",\".RR.R.RBB.BRB\",\"...GR.R..B...\",\"RGBR.R.GRR...\",\"G.BBGR...B...\"}\n",
    "Returns: \"Exist\"\n",
    "\n",
    "3)\t\n",
    "    \t\n",
    "{\".............\",\".......BB.R..\",\".......RR....\",\".....G.G....R\",\"........BB...\",\"...G.........\",\"........B...R\",\".BRG.......G.\",\".BR.B.B...GB.\",\"....B......GR\",\".R......G....\",\".......GBG..B\",\"...R..R..R.B.\"}\n",
    "Returns: \"Does not exist\"\n",
    "\n",
    "4)\t\n",
    "    \t\n",
    "{\"..B.BB...RB..\",\"......R..B.G.\",\"B.......BB...\",\".......R...G.\",\"B....GRB..R..\",\"B...G.RG.R...\",\".R..RR..B.RB.\",\"...RBG...G...\",\"..B...B......\",\"RBB..R.G....R\",\"B...R.R......\",\".G.G..B.....R\",\".........R.R.\"}\n",
    "Returns: \"Exist\"\n",
    "\n",
    "5)\t\n",
    "    \t\n",
    "{\"....\",\n",
    " \"....\",\n",
    " \"....\",\n",
    " \"....\"}\n",
    "Returns: \"Does not exist\"\n",
    "This graph has no spanning trees at all.\n"
   ]
  }
 ],
 "metadata": {
  "kernelspec": {
   "display_name": "Python 3",
   "language": "python",
   "name": "python3"
  },
  "language_info": {
   "codemirror_mode": {
    "name": "ipython",
    "version": 3
   },
   "file_extension": ".py",
   "mimetype": "text/x-python",
   "name": "python",
   "nbconvert_exporter": "python",
   "pygments_lexer": "ipython3",
   "version": "3.5.1"
  }
 },
 "nbformat": 4,
 "nbformat_minor": 0
}
