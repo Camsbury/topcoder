{
 "cells": [
  {
   "cell_type": "markdown",
   "metadata": {},
   "source": [
    "Algorithm for TopCoder's StepsConstruct problem."
   ]
  },
  {
   "cell_type": "code",
   "execution_count": 47,
   "metadata": {
    "collapsed": false
   },
   "outputs": [],
   "source": [
    "import heapq\n",
    "\n",
    "def steps_construct(board, k):\n",
    "    if not valid_board(board):\n",
    "        return \"\"\n",
    "    if not valid_k(board, k):\n",
    "        return \"\"\n",
    "    path = a_star(board)\n",
    "    if path == \"\" or k < len(path):\n",
    "        return \"\"\n",
    "    path = pad_path(path, k)\n",
    "    return path\n",
    "\n",
    "def valid_board(board):\n",
    "    return board[0][0] != \"#\" and board[-1][-1] != \"#\"\n",
    "\n",
    "def valid_k(board, k):\n",
    "    return k % 2 == abs(len(board) - len(board[0])) % 2 and k >= len(board) + len(board[0]) - 2\n",
    "\n",
    "def a_star(board):\n",
    "    \n",
    "    def heuristic(index):\n",
    "        return len(board) + len(board[0]) - index[0] - index[1]\n",
    "                \n",
    "    def append_valid(adjacencies, adjacent, move):\n",
    "        if board[adjacent[0]][adjacent[1]] == '.':\n",
    "            adjacencies.append((adjacent, move))\n",
    "\n",
    "    def adjacent(index):\n",
    "        adjacencies = []\n",
    "        if index[0] > 0:\n",
    "            append_valid(adjacencies, (index[0] - 1, index[1]), 'U')\n",
    "        if index[0] < len(board) - 1:\n",
    "            append_valid(adjacencies, (index[0] + 1, index[1]), 'D')\n",
    "        if index[1] > 0:\n",
    "            append_valid(adjacencies, (index[0], index[1] - 1), 'L')\n",
    "        if index[1] < len(board[0]) - 1:\n",
    "            append_valid(adjacencies, (index[0], index[1] + 1), 'R')\n",
    "        return adjacencies\n",
    "    \n",
    "    extracted = set()\n",
    "    paths = {(0,0):\"\"}\n",
    "    short_scores = {(0,0): 0}\n",
    "    full_scores = {(0,0): heuristic((0,0))}\n",
    "    full_score_heap = [(full_scores[(0,0)], (0,0))]\n",
    "    \n",
    "    while full_score_heap:\n",
    "        extraction = heapq.heappop(full_score_heap)[1]\n",
    "        if extraction in extracted:\n",
    "            continue\n",
    "        extracted.add(extraction)\n",
    "        for (cell, move) in adjacent(extraction):\n",
    "            \n",
    "            if cell == (len(board) - 1, len(board[0]) - 1):\n",
    "                return paths[extraction] + move\n",
    "            \n",
    "            short_score = short_scores[extraction] + 1\n",
    "            if short_score < short_scores.get(cell, float('inf')):\n",
    "                short_scores[cell] = short_score\n",
    "                full_score = short_score + heuristic(cell)\n",
    "                full_scores[cell] = full_score\n",
    "                full_score_heap.append((full_score, cell))\n",
    "                paths[cell] = paths[extraction] + move\n",
    "                \n",
    "    return \"\"\n",
    "    \n",
    "def pad_path(path, k):\n",
    "    pad_length = k - len(path)\n",
    "    pad = \"\".join(opposite(path[-1]) + path[-1] for i in range(pad_length//2))\n",
    "    return path + pad\n",
    "\n",
    "def opposite(move):\n",
    "    opposites = {'U': 'D', 'D': 'U', 'R': 'L', 'L': 'R'}\n",
    "    return opposites[move]"
   ]
  },
  {
   "cell_type": "code",
   "execution_count": 49,
   "metadata": {
    "collapsed": false
   },
   "outputs": [
    {
     "name": "stderr",
     "output_type": "stream",
     "text": [
      "test1 (__main__.TestStepsConstruct) ... ok\n",
      "test2 (__main__.TestStepsConstruct) ... ok\n",
      "test3 (__main__.TestStepsConstruct) ... ok\n",
      "test4 (__main__.TestStepsConstruct) ... ok\n",
      "test5 (__main__.TestStepsConstruct) ... ok\n",
      "test6 (__main__.TestStepsConstruct) ... ok\n",
      "\n",
      "----------------------------------------------------------------------\n",
      "Ran 6 tests in 0.009s\n",
      "\n",
      "OK\n"
     ]
    },
    {
     "data": {
      "text/plain": [
       "<unittest.runner.TextTestResult run=6 errors=0 failures=0>"
      ]
     },
     "execution_count": 49,
     "metadata": {},
     "output_type": "execute_result"
    }
   ],
   "source": [
    "#Tests\n",
    "\n",
    "import unittest\n",
    "\n",
    "class TestStepsConstruct(unittest.TestCase):\n",
    "    \n",
    "    def test1(self):\n",
    "        board = [\"...\", \".#.\", \"...\"]\n",
    "        k = 4\n",
    "        self.assertTrue(steps_construct(board, k) != \"\")\n",
    "    \n",
    "    def test2(self):\n",
    "        board = [\"...\", \".#.\", \"...\"]\n",
    "        k = 12\n",
    "        self.assertTrue(steps_construct(board, k) != \"\")\n",
    "    \n",
    "    def test3(self):\n",
    "        board = [\"...#.\", \"..#..\", \".#...\"]\n",
    "        k = 100\n",
    "        self.assertEqual(steps_construct(board, k), \"\")\n",
    "    \n",
    "    def test4(self):\n",
    "        board = [\"..#\", \"#.#\", \"..#\", \".#.\", \"...\"]\n",
    "        k = 6\n",
    "        self.assertEqual(steps_construct(board, k), \"\")\n",
    "    \n",
    "    def test5(self):\n",
    "        board = [\".#...\", \".#.#.\", \".#.#.\", \".#.#.\", \"...#.\"]\n",
    "        k = 16\n",
    "        self.assertTrue(steps_construct(board, k) != \"\")\n",
    "    \n",
    "    def test6(self):\n",
    "        board = [\"#.\", \"..\"]\n",
    "        k = 2\n",
    "        self.assertEqual(steps_construct(board, k), \"\")\n",
    "        \n",
    "suite = unittest.TestLoader().loadTestsFromTestCase(TestStepsConstruct)\n",
    "unittest.TextTestRunner(verbosity=2).run(suite)"
   ]
  }
 ],
 "metadata": {
  "kernelspec": {
   "display_name": "Python 3",
   "language": "python",
   "name": "python3"
  },
  "language_info": {
   "codemirror_mode": {
    "name": "ipython",
    "version": 3
   },
   "file_extension": ".py",
   "mimetype": "text/x-python",
   "name": "python",
   "nbconvert_exporter": "python",
   "pygments_lexer": "ipython3",
   "version": "3.5.1"
  }
 },
 "nbformat": 4,
 "nbformat_minor": 0
}
