{
 "cells": [
  {
   "cell_type": "markdown",
   "metadata": {},
   "source": [
    "Algorithm for TopCoder's CheatCode problem"
   ]
  },
  {
   "cell_type": "code",
   "execution_count": 11,
   "metadata": {
    "collapsed": false
   },
   "outputs": [],
   "source": [
    "import bisect\n",
    "\n",
    "def matches(key_presses, codes):\n",
    "    unmatched = set([index for index in range(len(codes))])\n",
    "    matched = []\n",
    "    start_presses = 0\n",
    "    \n",
    "    while start_presses != -1:\n",
    "        for index in unmatched.copy():\n",
    "            if match(key_presses, codes[index], start_presses, 0):\n",
    "                unmatched.remove(index)\n",
    "                bisect.insort(matched, index)\n",
    "        start_presses = next_letter_index(key_presses, start_presses)\n",
    "\n",
    "    return matched\n",
    "\n",
    "def match(key_presses, code, start_presses, start_code):\n",
    "    if code[start_code:] == \"\":\n",
    "        return True\n",
    "    same = False\n",
    "    while key_presses[start_presses] == code[start_code]:\n",
    "        if start_code == len(code) - 1:\n",
    "            return True\n",
    "        old = key_presses[start_presses]\n",
    "        start_code += 1\n",
    "        if code[start_code] != old:\n",
    "            start_presses = next_letter_index(key_presses, start_presses)\n",
    "            if start_presses == -1:\n",
    "                return False\n",
    "        else:\n",
    "            start_presses += 1\n",
    "            if start_presses == len(key_presses):\n",
    "                return False\n",
    "        \n",
    "\n",
    "def next_letter_index(string, start):\n",
    "    for i in range(start + 1, len(string)):\n",
    "        if string[i] != string[start]:\n",
    "            return i\n",
    "    return -1"
   ]
  },
  {
   "cell_type": "code",
   "execution_count": 12,
   "metadata": {
    "collapsed": false
   },
   "outputs": [
    {
     "name": "stderr",
     "output_type": "stream",
     "text": [
      "test0 (__main__.TestCheatCode) ... ok\n",
      "test1 (__main__.TestCheatCode) ... ok\n",
      "test2 (__main__.TestCheatCode) ... ok\n",
      "test3 (__main__.TestCheatCode) ... ok\n",
      "test4 (__main__.TestCheatCode) ... ok\n",
      "\n",
      "----------------------------------------------------------------------\n",
      "Ran 5 tests in 0.020s\n",
      "\n",
      "OK\n"
     ]
    },
    {
     "data": {
      "text/plain": [
       "<unittest.runner.TextTestResult run=5 errors=0 failures=0>"
      ]
     },
     "execution_count": 12,
     "metadata": {},
     "output_type": "execute_result"
    }
   ],
   "source": [
    "import unittest\n",
    "\n",
    "class TestCheatCode(unittest.TestCase):\n",
    "    \n",
    "    def test0(self):\n",
    "        key_presses = \"UUDDLRRLLRBASS\"\n",
    "        codes = [\"UUDDLRLRBA\",\"UUDUDLRLRABABSS\",\"DDUURLRLAB\",\"UUDDLRLRBASS\",\"UDLRRLLRBASS\"]\n",
    "        self.assertEqual(matches(key_presses, codes), [0,  3,  4])\n",
    "    \n",
    "    def test1(self):\n",
    "        key_presses = \"AAAAAAAAAAAAAAAAAAAAAAAAAAAAAAAAAAAAAAAAAAAAAAAAAA\"\n",
    "        codes = [\"AAAAAAAAAAAAAAAAAAAAAAAAAAAAAAAAAAAAAAAAAAAAAAAAAA\"]\n",
    "        self.assertEqual(matches(key_presses, codes), [0])\n",
    "    \n",
    "    def test2(self):\n",
    "        key_presses = \"IDDQDDTSFHHALL\"\n",
    "        codes = [\"FHHALL\", \"FHSHH\", \"IDBEHOLDA\", \"IDBEHOLDI\", \"IDBEHOLDL\",\n",
    "                 \"IDBEHOLDR\", \"IDBEHOLDS\", \"IDBEHOLDV\", \"IDCHOPPERS\", \"IDCLEV\",\n",
    "                 \"IDCLIP\", \"IDDQD\", \"IDDT\", \"IDFA\", \"IDKFA\", \"IDMYPOS\", \"IDMUS\"]\n",
    "        self.assertEqual(matches(key_presses, codes), [0,  11])\n",
    "    \n",
    "    def test3(self):\n",
    "        key_presses = \"AABBCCDDEEFFGGHHIIJJKKLLMMNNOOPPQQRRSSTTUUVVWWXXYY\"\n",
    "        codes = [\"ABCDE\", \"BCDEF\", \"CDEFG\", \"DEFGH\", \"EFGHI\",\n",
    "                 \"FGHIJ\", \"GHIJK\", \"HIJKL\", \"IJKLM\", \"JKLMN\",\n",
    "                 \"KLMNO\", \"LMNOP\", \"MNOPQ\", \"NOPQR\", \"OPQRS\",\n",
    "                 \"PQRST\", \"QRSTU\", \"RSTUV\", \"STUVW\", \"TUVWX\",\n",
    "                 \"UVWXY\", \"VWXYZ\", \"WXYZA\", \"XYZAB\", \"YZABC\",\n",
    "                 \"ZABCD\"]\n",
    "        self.assertEqual(matches(key_presses, codes), [0,  1,  2,  3,  4,\n",
    "                                                       5,  6,  7,  8,  9,\n",
    "                                                       10,  11,  12,  13,\n",
    "                                                       14,  15,  16,  17,\n",
    "                                                       18,  19,  20])\n",
    "    \n",
    "    def test4(self):\n",
    "        key_presses = \"LAKJDGSJKGLSDKHFKDFHDGHHSDKKSJDHFHJGKDKLSLSLJKAHSJ\"\n",
    "        codes = [\"LAKJDGSJKGLSDKHFKDFHDGHHSDKKSJDHFHJGKDKLSLSLJKAHSS\", \"LAKJDGSJKGLSDKHFKDFHDGHSDKKSJDHFHJGKDKLSLSLJKAHSJ\",\n",
    "                 \"LAKJDGSJKGLSDKHFKDFHDHHSDKKSJDHFHJGKDKLSLSLJKASSJ\",  \"AKJDGSJKGLSDKHFKDFHDGHHSDKKSJDHFHJGKDKLSLSLJKAHSJ\",\n",
    "                 \"LAJDGSJKGLSDKHFKDFHDGHHSDKKSJDHFHJGKDKLSLSLJKHHSJ\",  \"LAKDGSJKGLSDKHFKDFHDGHHSDKKSJDHFHJGKDKLSLSLJKAHSJ\",\n",
    "                 \"LAKJDGSJKGLSDKHFKDFHDGHHSDKKSJDFHJGKDKLSLSLJKAHS\",   \"KJDGSJKGLSDKHFKDFHDGHHSDKKSJDHFHJGKDKLSLSLJKAHSJ\",\n",
    "                 \"LAKJDGSJKGLSDKHFKDFHDHHSDKKSJDHFHJGKDKLLSLJKAHS\",    \"LAKGSJKGLSDKHFKDFHDGHHSDKKSJDHFHJGKDKLSLSLJKAHSJ\",\n",
    "                 \"LAKJDGJKGLSDKHFKDFHDGHHDKKSJDHFHJGKDKLSLSLJKAHS\",    \"LAKJDGJKGLSDKHFKDFHDGHHSDKKSJDHFHJGKDKLSLSLJKAHSJ\",\n",
    "                 \"LAKJDGSJKGLSDKHFKDFHGHHSDKKSJDHFHJGKDKLSLSLJKAHS\",   \"LAKJDGSJKGLSDKHFKDFHDGHHSDKKSJDHFHJGKDKLSLSL\",\n",
    "                 \"LAKJDGSJKGLSDKHFDFHDGHHSDKKSJDHFHJGKDKLSLSLJKAHS\",   \"LAKJDGSJKGLSDKHFKDFHDGHHSDKKSJDHFHJGKDKLSLJKAHSJ\",\n",
    "                 \"LAKJDGSJKGLSDHFKDFHDGHHSDKKSJDHFHJGKDKLSLSJKAHS\",    \"KGLSDKHFKDFHDGHHSDKKSJDHFHJGKDKLSLSL\",\n",
    "                 \"LAKJDGSJKGLSDKHFKDFHDGHHSDKKSJHFHJGKDKLSLSLJKAHS\",   \"LAKJDGSJKGLSDKHFKDFHDGHHSDKKSJDHFHJGKDSLSLJKAHSJ\",\n",
    "                 \"LAKJDGSJKGLSDKHFKDFHDGHHSDKSJHFHJGKDKLSLSLJKAHS\",    \"LAKJDGSJKGLSDKHFKDFHDGHHSDKKSJDHFHJGKKLSLSLJKAHSJ\",\n",
    "                 \"LAKJDGSJKGLSDKHFKFHDGHHSDKKSJDHFHJGKDKLSLSLJKAHS\",   \"LAKJDGSJKGLSDKHFKDFHDGHHSDKKSJDHFHJGDKLSLSLJKAHSJ\",\n",
    "                 \"LAKJDGSJKGLSDKHFKDFHDGHHSDKSJHFHJGKDKLSLSLJKAHS\",    \"LAKJDGSJKGLSDKHFKDFHDGHHSDKKSJDHFHJKDKLSLSLJKAHSJ\",\n",
    "                 \"LKJDGSJKGLSDKHFKDFHDGHHSDKKJDHFHJGKDKLSLSLJKAHS\",    \"AKJDGSJKGLSDKHFKDFHDGHHSDKKSJDHFHJGKDKLSLSLJKAHS\",\n",
    "                 \"LAJDGSJKGLSDKHFKDFHDGHHSDKKSJDFHJGKDKLSLSLKAHS\",     \"LAKJDGSJKGLSDKHFKDFHDGHHSDKKSJDHFGKDKLSLSLJKAHSJ\",\n",
    "                 \"LKJDGSJKLSDKHFKDFHDGHHSDKSJDHFHJGKDKLSLSLJKAHS\",     \"LAKJDGSJKGLSDKHFKDFHDGHHSDKKSJDHHJGKDKLSLSLJKAHSJ\",\n",
    "                 \"AKJDGSJKGLSDKFKDFHDGHHSSJDHFJGKDKLSLSLJKAHS\",        \"LAKJDGSJKGLSDKHFKDFHDGHHSDKKSJDFHJGKDKLSLSLJKAHSJ\",\n",
    "                 \"LAKJDGSJKGLSDKHFKDFHDGHHSDKKSJDHFJGKDKLSLSLJKAHS\",   \"LAKJDGSJKGLSDKHFKDFHDGHHSDKKSJHFHJGKDKLSLSLJKAHSJ\",\n",
    "                 \"LAKJDSJKGLSDKHFKDFHDGHHSDKKSJDHFHJGKDLSLSLJKAHS\",    \"LAKJDGSJKGLSDKHFKDFHDGHHSDKKSDHFHJGKDKLSLSLJKAHSJ\",\n",
    "                 \"LAKJDSJKGLSDKHFKDFHDGHHSDKKSJDHFHJGKDLSLSLJKAHS\",    \"LAKJDGSJKGLSDKHFKDFHDGHHSDKKJDHFHJGKDKLSLSLJKAHSJ\",\n",
    "                 \"LAKJDGSJKGLSDKHFKDFHDHHSDKKSJDHFHJGKDKLSLSLJKAHS\",   \"LAKDGSJKGLSDKHFKDFHDGHHSDKSJDHFHJGKDKLSLSLJKAHSJ\",\n",
    "                 \"LAKJDGSJKGLSDKHFKDFHDGHHSDKSJDHFHJGKDKLSLSLJKAS\",    \"KJDGSJKGLSDKHFKDFHDGHSDKKSJDHFHJGKDKLSLSLJKAH\",\n",
    "                 \"LAKJDGSJKGLSDKHFKDFHDGHHDKKSJDHFHJGKDKLSLSLJKAHS\",   \"LAKDGSJKGLSDKFHDGHHSDKSJDHFHJGKDKLSLSLJKAHSJ\",\n",
    "                 \"LAKJDGSJKGLSKHFKDFHDHHSDKKSJDHFHJGKDKLSLSLJKAHS\",    \"LAKJDGSJKGLSDKHFKDFHDGHHSKKSJDHFHJGKDKLSLSLJKAHSJ\",\n",
    "                 \"LAKJDGSJGLSDKHFKDFHDGHHSDKKSJDFHJGKDKLSLSLJKAHS\",    \"LAKJDGSJKGLSDKHFKDFHDGHHDKKSJDHFHJGKDKLSLSLJKAHSJ\"]\n",
    "        self.assertEqual(matches(key_presses, codes), [1,  3,  7,  13,  17,  27,  43])\n",
    "        \n",
    "suite = unittest.TestLoader().loadTestsFromTestCase(TestCheatCode)\n",
    "unittest.TextTestRunner(verbosity=2).run(suite)"
   ]
  }
 ],
 "metadata": {
  "kernelspec": {
   "display_name": "Python 3",
   "language": "python",
   "name": "python3"
  },
  "language_info": {
   "codemirror_mode": {
    "name": "ipython",
    "version": 3
   },
   "file_extension": ".py",
   "mimetype": "text/x-python",
   "name": "python",
   "nbconvert_exporter": "python",
   "pygments_lexer": "ipython3",
   "version": "3.5.1"
  }
 },
 "nbformat": 4,
 "nbformat_minor": 0
}
